{
 "cells": [
  {
   "cell_type": "code",
   "execution_count": 1,
   "metadata": {},
   "outputs": [],
   "source": [
    "# from sklearn.datasets import load_iris\n",
    "# import numpy as np"
   ]
  },
  {
   "cell_type": "code",
   "execution_count": 2,
   "metadata": {},
   "outputs": [],
   "source": [
    "\n",
    "# class Node:\n",
    "#     def __init__(self, predicted_class):\n",
    "#         self.predicted_class = predicted_class\n",
    "#         self.left = None\n",
    "#         self.right = None\n",
    "#         self.feature_index = 0\n",
    "#         self.threshold = 0"
   ]
  },
  {
   "cell_type": "code",
   "execution_count": 3,
   "metadata": {},
   "outputs": [],
   "source": [
    "# class PJ_Cart_Tree:\n",
    "#     def __init__(self, max_depth, acceptable_impurity):\n",
    "#         self.max_depth = max_depth\n",
    "#         self.acceptable_impurity = acceptable_impurity\n",
    "        \n",
    "#     def predict(self, inputs):\n",
    "#         current_node = self.tree\n",
    "#         while current_node.left:\n",
    "#             if inputs[current_node.feature_index] < current_node.threshold:\n",
    "#                 current_node = current_node.left\n",
    "#             else:\n",
    "#                 current_node = current_node.right\n",
    "#         return current_node.predicted_class\n",
    "        \n",
    "#     def fit(self, x, y):\n",
    "#         self.classifications = len(set(y))\n",
    "#         self.features = x.shape[1]\n",
    "#         self.tree = self.create_tree(x, y)\n",
    "        \n",
    "#     def gini_impurity(y):\n",
    "#         instances = np.bincount(y)\n",
    "#         total = np.sum(instances)\n",
    "#         p = instances/total\n",
    "#         return 1.0 - np.sum(np.power(p,2)) \n",
    "        \n",
    "#     def cart_split(self, x, y):\n",
    "#         m = y.size\n",
    "#         if m <= 1:\n",
    "#             return None, None\n",
    "#         best_index = None\n",
    "#         best_threshold = None\n",
    "#         parent = [np.sum(y == c) for c in range(self.classifications)]\n",
    "#         best_gini = 1.0 - sum((n / m) ** 2 for n in parent)\n",
    "\n",
    "#         if best_gini >= self.acceptable_impurity:\n",
    "#             for index in range(self.features):\n",
    "#                 thresholds, classes = zip(*sorted(zip(x[:, index], y)))\n",
    "#                 num_left = [0] * self.classifications\n",
    "#                 num_right = parent.copy()\n",
    "#                 for i in range(1, m):\n",
    "#                     c = classes[i - 1]\n",
    "#                     num_left[c] += 1\n",
    "#                     num_right[c] -= 1\n",
    "#                     gini_left = 1.0 - sum((num_left[x] / i) ** 2 for x in range(self.classifications))\n",
    "#                     gini_right = 1.0 - sum((num_right[x] / (m - i)) ** 2 for x in range(self.classifications))\n",
    "#                     gini = (i * gini_left + (m - i) * gini_right) / m\n",
    "#                     if thresholds[i] == thresholds[i - 1]:\n",
    "#                         continue\n",
    "#                     if gini < best_gini:\n",
    "#                         best_gini = gini\n",
    "#                         best_index = index\n",
    "#                         best_threshold = (thresholds[i] + thresholds[i - 1]) / 2\n",
    "#         return best_index, best_threshold\n",
    "    \n",
    "#     def create_tree(self, x, y, depth=0):\n",
    "#         samples_class = [np.sum(y == i) for i in range(self.classifications)]\n",
    "#         predicted_class = np.argmax(samples_class)\n",
    "#         node = Node(predicted_class=predicted_class)\n",
    "#         if depth < self.max_depth:\n",
    "#             index, thr = self.cart_split(x, y)\n",
    "#             if index is not None:\n",
    "#                 indices_left = x[:, index] < thr\n",
    "#                 x_left = x[indices_left]\n",
    "#                 y_left = y[indices_left]\n",
    "#                 x_right = x[~indices_left]\n",
    "#                 y_right = y[~indices_left]\n",
    "#                 node.feature_index = index\n",
    "#                 node.threshold = thr\n",
    "#                 node.left = self.create_tree(x_left, y_left, depth + 1)\n",
    "#                 node.right = self.create_tree(x_right, y_right, depth + 1)\n",
    "#         return node"
   ]
  },
  {
   "cell_type": "code",
   "execution_count": 4,
   "metadata": {
    "scrolled": true
   },
   "outputs": [
    {
     "name": "stdout",
     "output_type": "stream",
     "text": [
      "[5.  3.6 1.4 0.2]\n",
      "Classified as setosa\n"
     ]
    }
   ],
   "source": [
    "# iris = load_iris()\n",
    "# tree = PJ_Cart_Tree(max_depth=4, acceptable_impurity=0.2)\n",
    "# tree.fit(iris.data, iris.target)\n",
    "# print(iris.data[4])\n",
    "# cl = tree.predict(iris.data[4])\n",
    "# print('Classified as {}'.format(iris.target_names[cl]))"
   ]
  },
  {
   "cell_type": "markdown",
   "metadata": {},
   "source": [
    "# My Code"
   ]
  },
  {
   "cell_type": "markdown",
   "metadata": {},
   "source": [
    "# C4.5 Algorithm"
   ]
  },
  {
   "cell_type": "code",
   "execution_count": 1,
   "metadata": {},
   "outputs": [],
   "source": [
    "import pandas as pd\n",
    "import numpy as np\n",
    "import matplotlib.pyplot as plt\n",
    "import seaborn as sns\n",
    "import math\n",
    "import copy"
   ]
  },
  {
   "cell_type": "code",
   "execution_count": 2,
   "metadata": {},
   "outputs": [
    {
     "data": {
      "text/html": [
       "<div>\n",
       "<style scoped>\n",
       "    .dataframe tbody tr th:only-of-type {\n",
       "        vertical-align: middle;\n",
       "    }\n",
       "\n",
       "    .dataframe tbody tr th {\n",
       "        vertical-align: top;\n",
       "    }\n",
       "\n",
       "    .dataframe thead th {\n",
       "        text-align: right;\n",
       "    }\n",
       "</style>\n",
       "<table border=\"1\" class=\"dataframe\">\n",
       "  <thead>\n",
       "    <tr style=\"text-align: right;\">\n",
       "      <th></th>\n",
       "      <th>day</th>\n",
       "      <th>outlook</th>\n",
       "      <th>temp</th>\n",
       "      <th>humidity</th>\n",
       "      <th>wind</th>\n",
       "      <th>play</th>\n",
       "    </tr>\n",
       "  </thead>\n",
       "  <tbody>\n",
       "    <tr>\n",
       "      <th>0</th>\n",
       "      <td>D1</td>\n",
       "      <td>Sunny</td>\n",
       "      <td>Hot</td>\n",
       "      <td>High</td>\n",
       "      <td>Weak</td>\n",
       "      <td>No</td>\n",
       "    </tr>\n",
       "    <tr>\n",
       "      <th>1</th>\n",
       "      <td>D2</td>\n",
       "      <td>Sunny</td>\n",
       "      <td>Hot</td>\n",
       "      <td>High</td>\n",
       "      <td>Strong</td>\n",
       "      <td>No</td>\n",
       "    </tr>\n",
       "    <tr>\n",
       "      <th>2</th>\n",
       "      <td>D3</td>\n",
       "      <td>Overcast</td>\n",
       "      <td>Hot</td>\n",
       "      <td>High</td>\n",
       "      <td>Weak</td>\n",
       "      <td>Yes</td>\n",
       "    </tr>\n",
       "    <tr>\n",
       "      <th>3</th>\n",
       "      <td>D4</td>\n",
       "      <td>Rain</td>\n",
       "      <td>Mild</td>\n",
       "      <td>High</td>\n",
       "      <td>Weak</td>\n",
       "      <td>Yes</td>\n",
       "    </tr>\n",
       "    <tr>\n",
       "      <th>4</th>\n",
       "      <td>D5</td>\n",
       "      <td>Rain</td>\n",
       "      <td>Cool</td>\n",
       "      <td>Normal</td>\n",
       "      <td>Weak</td>\n",
       "      <td>Yes</td>\n",
       "    </tr>\n",
       "    <tr>\n",
       "      <th>5</th>\n",
       "      <td>D6</td>\n",
       "      <td>Rain</td>\n",
       "      <td>Cool</td>\n",
       "      <td>Normal</td>\n",
       "      <td>Strong</td>\n",
       "      <td>No</td>\n",
       "    </tr>\n",
       "    <tr>\n",
       "      <th>6</th>\n",
       "      <td>D7</td>\n",
       "      <td>Overcast</td>\n",
       "      <td>Cool</td>\n",
       "      <td>Normal</td>\n",
       "      <td>Strong</td>\n",
       "      <td>Yes</td>\n",
       "    </tr>\n",
       "    <tr>\n",
       "      <th>7</th>\n",
       "      <td>D8</td>\n",
       "      <td>Sunny</td>\n",
       "      <td>Mild</td>\n",
       "      <td>High</td>\n",
       "      <td>Weak</td>\n",
       "      <td>No</td>\n",
       "    </tr>\n",
       "    <tr>\n",
       "      <th>8</th>\n",
       "      <td>D9</td>\n",
       "      <td>Sunny</td>\n",
       "      <td>Cool</td>\n",
       "      <td>Normal</td>\n",
       "      <td>Weak</td>\n",
       "      <td>Yes</td>\n",
       "    </tr>\n",
       "    <tr>\n",
       "      <th>9</th>\n",
       "      <td>D10</td>\n",
       "      <td>Rain</td>\n",
       "      <td>Mild</td>\n",
       "      <td>Normal</td>\n",
       "      <td>Weak</td>\n",
       "      <td>Yes</td>\n",
       "    </tr>\n",
       "    <tr>\n",
       "      <th>10</th>\n",
       "      <td>D11</td>\n",
       "      <td>Sunny</td>\n",
       "      <td>Mild</td>\n",
       "      <td>Normal</td>\n",
       "      <td>Strong</td>\n",
       "      <td>Yes</td>\n",
       "    </tr>\n",
       "    <tr>\n",
       "      <th>11</th>\n",
       "      <td>D12</td>\n",
       "      <td>Overcast</td>\n",
       "      <td>Mild</td>\n",
       "      <td>High</td>\n",
       "      <td>Strong</td>\n",
       "      <td>Yes</td>\n",
       "    </tr>\n",
       "    <tr>\n",
       "      <th>12</th>\n",
       "      <td>D13</td>\n",
       "      <td>Overcast</td>\n",
       "      <td>Hot</td>\n",
       "      <td>Normal</td>\n",
       "      <td>Weak</td>\n",
       "      <td>Yes</td>\n",
       "    </tr>\n",
       "    <tr>\n",
       "      <th>13</th>\n",
       "      <td>D14</td>\n",
       "      <td>Rain</td>\n",
       "      <td>Mild</td>\n",
       "      <td>High</td>\n",
       "      <td>Strong</td>\n",
       "      <td>No</td>\n",
       "    </tr>\n",
       "  </tbody>\n",
       "</table>\n",
       "</div>"
      ],
      "text/plain": [
       "    day   outlook  temp humidity    wind play\n",
       "0    D1     Sunny   Hot     High    Weak   No\n",
       "1    D2     Sunny   Hot     High  Strong   No\n",
       "2    D3  Overcast   Hot     High    Weak  Yes\n",
       "3    D4      Rain  Mild     High    Weak  Yes\n",
       "4    D5      Rain  Cool   Normal    Weak  Yes\n",
       "5    D6      Rain  Cool   Normal  Strong   No\n",
       "6    D7  Overcast  Cool   Normal  Strong  Yes\n",
       "7    D8     Sunny  Mild     High    Weak   No\n",
       "8    D9     Sunny  Cool   Normal    Weak  Yes\n",
       "9   D10      Rain  Mild   Normal    Weak  Yes\n",
       "10  D11     Sunny  Mild   Normal  Strong  Yes\n",
       "11  D12  Overcast  Mild     High  Strong  Yes\n",
       "12  D13  Overcast   Hot   Normal    Weak  Yes\n",
       "13  D14      Rain  Mild     High  Strong   No"
      ]
     },
     "execution_count": 2,
     "metadata": {},
     "output_type": "execute_result"
    }
   ],
   "source": [
    "df=pd.read_csv('play_tennis.csv')\n",
    "df"
   ]
  },
  {
   "cell_type": "code",
   "execution_count": 3,
   "metadata": {},
   "outputs": [],
   "source": [
    "df1=df"
   ]
  },
  {
   "cell_type": "code",
   "execution_count": 4,
   "metadata": {},
   "outputs": [
    {
     "data": {
      "text/html": [
       "<div>\n",
       "<style scoped>\n",
       "    .dataframe tbody tr th:only-of-type {\n",
       "        vertical-align: middle;\n",
       "    }\n",
       "\n",
       "    .dataframe tbody tr th {\n",
       "        vertical-align: top;\n",
       "    }\n",
       "\n",
       "    .dataframe thead th {\n",
       "        text-align: right;\n",
       "    }\n",
       "</style>\n",
       "<table border=\"1\" class=\"dataframe\">\n",
       "  <thead>\n",
       "    <tr style=\"text-align: right;\">\n",
       "      <th></th>\n",
       "      <th>outlook</th>\n",
       "      <th>temp</th>\n",
       "      <th>humidity</th>\n",
       "      <th>wind</th>\n",
       "      <th>play</th>\n",
       "    </tr>\n",
       "  </thead>\n",
       "  <tbody>\n",
       "    <tr>\n",
       "      <th>0</th>\n",
       "      <td>Sunny</td>\n",
       "      <td>Hot</td>\n",
       "      <td>High</td>\n",
       "      <td>Weak</td>\n",
       "      <td>No</td>\n",
       "    </tr>\n",
       "    <tr>\n",
       "      <th>1</th>\n",
       "      <td>Sunny</td>\n",
       "      <td>Hot</td>\n",
       "      <td>High</td>\n",
       "      <td>Strong</td>\n",
       "      <td>No</td>\n",
       "    </tr>\n",
       "    <tr>\n",
       "      <th>2</th>\n",
       "      <td>Overcast</td>\n",
       "      <td>Hot</td>\n",
       "      <td>High</td>\n",
       "      <td>Weak</td>\n",
       "      <td>Yes</td>\n",
       "    </tr>\n",
       "    <tr>\n",
       "      <th>3</th>\n",
       "      <td>Rain</td>\n",
       "      <td>Mild</td>\n",
       "      <td>High</td>\n",
       "      <td>Weak</td>\n",
       "      <td>Yes</td>\n",
       "    </tr>\n",
       "    <tr>\n",
       "      <th>4</th>\n",
       "      <td>Rain</td>\n",
       "      <td>Cool</td>\n",
       "      <td>Normal</td>\n",
       "      <td>Weak</td>\n",
       "      <td>Yes</td>\n",
       "    </tr>\n",
       "    <tr>\n",
       "      <th>5</th>\n",
       "      <td>Rain</td>\n",
       "      <td>Cool</td>\n",
       "      <td>Normal</td>\n",
       "      <td>Strong</td>\n",
       "      <td>No</td>\n",
       "    </tr>\n",
       "    <tr>\n",
       "      <th>6</th>\n",
       "      <td>Overcast</td>\n",
       "      <td>Cool</td>\n",
       "      <td>Normal</td>\n",
       "      <td>Strong</td>\n",
       "      <td>Yes</td>\n",
       "    </tr>\n",
       "    <tr>\n",
       "      <th>7</th>\n",
       "      <td>Sunny</td>\n",
       "      <td>Mild</td>\n",
       "      <td>High</td>\n",
       "      <td>Weak</td>\n",
       "      <td>No</td>\n",
       "    </tr>\n",
       "    <tr>\n",
       "      <th>8</th>\n",
       "      <td>Sunny</td>\n",
       "      <td>Cool</td>\n",
       "      <td>Normal</td>\n",
       "      <td>Weak</td>\n",
       "      <td>Yes</td>\n",
       "    </tr>\n",
       "    <tr>\n",
       "      <th>9</th>\n",
       "      <td>Rain</td>\n",
       "      <td>Mild</td>\n",
       "      <td>Normal</td>\n",
       "      <td>Weak</td>\n",
       "      <td>Yes</td>\n",
       "    </tr>\n",
       "    <tr>\n",
       "      <th>10</th>\n",
       "      <td>Sunny</td>\n",
       "      <td>Mild</td>\n",
       "      <td>Normal</td>\n",
       "      <td>Strong</td>\n",
       "      <td>Yes</td>\n",
       "    </tr>\n",
       "    <tr>\n",
       "      <th>11</th>\n",
       "      <td>Overcast</td>\n",
       "      <td>Mild</td>\n",
       "      <td>High</td>\n",
       "      <td>Strong</td>\n",
       "      <td>Yes</td>\n",
       "    </tr>\n",
       "    <tr>\n",
       "      <th>12</th>\n",
       "      <td>Overcast</td>\n",
       "      <td>Hot</td>\n",
       "      <td>Normal</td>\n",
       "      <td>Weak</td>\n",
       "      <td>Yes</td>\n",
       "    </tr>\n",
       "    <tr>\n",
       "      <th>13</th>\n",
       "      <td>Rain</td>\n",
       "      <td>Mild</td>\n",
       "      <td>High</td>\n",
       "      <td>Strong</td>\n",
       "      <td>No</td>\n",
       "    </tr>\n",
       "  </tbody>\n",
       "</table>\n",
       "</div>"
      ],
      "text/plain": [
       "     outlook  temp humidity    wind play\n",
       "0      Sunny   Hot     High    Weak   No\n",
       "1      Sunny   Hot     High  Strong   No\n",
       "2   Overcast   Hot     High    Weak  Yes\n",
       "3       Rain  Mild     High    Weak  Yes\n",
       "4       Rain  Cool   Normal    Weak  Yes\n",
       "5       Rain  Cool   Normal  Strong   No\n",
       "6   Overcast  Cool   Normal  Strong  Yes\n",
       "7      Sunny  Mild     High    Weak   No\n",
       "8      Sunny  Cool   Normal    Weak  Yes\n",
       "9       Rain  Mild   Normal    Weak  Yes\n",
       "10     Sunny  Mild   Normal  Strong  Yes\n",
       "11  Overcast  Mild     High  Strong  Yes\n",
       "12  Overcast   Hot   Normal    Weak  Yes\n",
       "13      Rain  Mild     High  Strong   No"
      ]
     },
     "execution_count": 4,
     "metadata": {},
     "output_type": "execute_result"
    }
   ],
   "source": [
    "df1.drop(['day'],axis=1,inplace=True)\n",
    "df1"
   ]
  },
  {
   "cell_type": "code",
   "execution_count": 5,
   "metadata": {},
   "outputs": [],
   "source": [
    "class DecisionTree:\n",
    "    def __init__(self):\n",
    "        self.value=\"\"\n",
    "        self.nodes={}\n",
    "    def __str__(self):\n",
    "        return self.value+f' {self.nodes}'"
   ]
  },
  {
   "cell_type": "code",
   "execution_count": 6,
   "metadata": {},
   "outputs": [],
   "source": [
    "def calc_entropy(column):\n",
    "    total=len(column)\n",
    "    category=np.array(column.value_counts())\n",
    "    entropy=0\n",
    "    for i in category:\n",
    "        entropy-=(i/total)*np.log2(i/total)\n",
    "    return entropy"
   ]
  },
  {
   "cell_type": "code",
   "execution_count": 44,
   "metadata": {},
   "outputs": [],
   "source": [
    "def calc_gain_ratio(dataframe,attribute,target_entropy,target):\n",
    "    column=dataframe[attribute]\n",
    "    n=len(column)\n",
    "    values=column.value_counts().tolist()\n",
    "    classes=column.value_counts().keys().tolist()\n",
    "    entropy_of_class=[]\n",
    "    for i in classes:\n",
    "        col=dataframe[column==i][target]\n",
    "        entropy_of_class.append(calc_entropy(col))\n",
    "    ig=target_entropy\n",
    "    category_entropy={}\n",
    "    split_info=0\n",
    "    for i in range(len(values)):\n",
    "        ig-=(entropy_of_class[i]*(values[i]/n))\n",
    "        split_info-=(values[i]/n)*np.log2(values[i]/n)\n",
    "        category_entropy[classes[i]]=entropy_of_class[i]\n",
    "    return ig/split_info,category_entropy"
   ]
  },
  {
   "cell_type": "code",
   "execution_count": 45,
   "metadata": {},
   "outputs": [],
   "source": [
    "def build_decisionTree(tree,dataframe,target,target_entropy):\n",
    "    attributes=np.array(dataframe.columns[:-1])\n",
    "    max_gr=0;\n",
    "    child_node={}\n",
    "    parent_node=\"\"\n",
    "    \n",
    "    for attribute in attributes:\n",
    "        gain_ratio,children=calc_gain_ratio(dataframe,attribute,target_entropy,target)\n",
    "        if(gain_ratio>max_gr):\n",
    "            max_gr=gain_ratio\n",
    "            child_node=children\n",
    "            parent_node=attribute\n",
    "    tree.value=parent_node\n",
    "    for i in list(child_node.keys()):\n",
    "        child_tree=DecisionTree()\n",
    "        temp_df=dataframe[dataframe[parent_node]==i]\n",
    "        new_df=temp_df.drop([parent_node],axis=1)\n",
    "        if(child_node[i]==0):\n",
    "            tree.nodes[i]=temp_df[target].unique()[0]\n",
    "        else:\n",
    "            tree.nodes[i]=child_tree\n",
    "            build_decisionTree(child_tree,new_df,target,child_node[i])"
   ]
  },
  {
   "cell_type": "code",
   "execution_count": 46,
   "metadata": {},
   "outputs": [],
   "source": [
    "tree=DecisionTree()\n",
    "target='play'\n",
    "target_entropy=calc_entropy(df1[target])\n",
    "build_decisionTree(tree,df1,target,target_entropy)"
   ]
  },
  {
   "cell_type": "code",
   "execution_count": 47,
   "metadata": {},
   "outputs": [
    {
     "name": "stdout",
     "output_type": "stream",
     "text": [
      "outlook {'Sunny': <__main__.DecisionTree object at 0x000001ED6BEFD670>, 'Rain': <__main__.DecisionTree object at 0x000001ED0DBD6BB0>, 'Overcast': 'Yes'}\n"
     ]
    }
   ],
   "source": [
    "print(tree)"
   ]
  },
  {
   "cell_type": "code",
   "execution_count": 49,
   "metadata": {},
   "outputs": [
    {
     "name": "stdout",
     "output_type": "stream",
     "text": [
      "humidity {'High': 'No', 'Normal': 'Yes'}\n"
     ]
    }
   ],
   "source": [
    "print(tree.nodes['Sunny'])"
   ]
  },
  {
   "cell_type": "code",
   "execution_count": 48,
   "metadata": {},
   "outputs": [
    {
     "name": "stdout",
     "output_type": "stream",
     "text": [
      "wind {'Weak': 'Yes', 'Strong': 'No'}\n"
     ]
    }
   ],
   "source": [
    "print(tree.nodes['Rain'])"
   ]
  },
  {
   "cell_type": "code",
   "execution_count": null,
   "metadata": {},
   "outputs": [],
   "source": []
  },
  {
   "cell_type": "markdown",
   "metadata": {},
   "source": [
    "# CART Algorithm"
   ]
  },
  {
   "cell_type": "code",
   "execution_count": 113,
   "metadata": {},
   "outputs": [],
   "source": [
    "def calc_impurity(column):\n",
    "    total=len(column)\n",
    "    category=np.array(column.value_counts())\n",
    "    impurity=1\n",
    "    for i in category:\n",
    "        impurity-=(i/total)**2\n",
    "    return impurity"
   ]
  },
  {
   "cell_type": "code",
   "execution_count": 114,
   "metadata": {},
   "outputs": [],
   "source": [
    "def calc_gini_impurity(dataframe,attribute,target):\n",
    "    column=dataframe[attribute]\n",
    "    n=len(column)\n",
    "    values=column.value_counts().tolist()\n",
    "    classes=column.value_counts().keys().tolist()\n",
    "    impurity_of_class=[]\n",
    "    for i in classes:\n",
    "        col=dataframe[column==i][target]\n",
    "        impurity_of_class.append(calc_impurity(col))\n",
    "    gini=0\n",
    "    category_impurity={}\n",
    "    for i in range(len(values)):\n",
    "        gini+=(impurity_of_class[i]*(values[i]/n))\n",
    "        category_impurity[classes[i]]=impurity_of_class[i]\n",
    "    return gini,category_impurity"
   ]
  },
  {
   "cell_type": "code",
   "execution_count": 115,
   "metadata": {},
   "outputs": [],
   "source": [
    "def build_decisionTree(tree,dataframe,target):\n",
    "    attributes=np.array(dataframe.columns[:-1])\n",
    "    min_gini=10000;\n",
    "    child_node={}\n",
    "    parent_node=\"\"\n",
    "    \n",
    "    for attribute in attributes:\n",
    "        gini,children=calc_gini_impurity(dataframe,attribute,target)\n",
    "        if(gini<min_gini):\n",
    "            min_gini=gini\n",
    "            child_node=children\n",
    "            parent_node=attribute\n",
    "    tree.value=parent_node\n",
    "    for i in list(child_node.keys()):\n",
    "        child_tree=DecisionTree()\n",
    "        temp_df=dataframe[dataframe[parent_node]==i]\n",
    "        new_df=temp_df.drop([parent_node],axis=1)\n",
    "        if(child_node[i]==0):\n",
    "            tree.nodes[i]=temp_df[target].unique()[0]\n",
    "        else:\n",
    "            tree.nodes[i]=child_tree\n",
    "            build_decisionTree(child_tree,new_df,target)"
   ]
  },
  {
   "cell_type": "code",
   "execution_count": 116,
   "metadata": {},
   "outputs": [],
   "source": [
    "tree=DecisionTree()\n",
    "target='play'\n",
    "build_decisionTree(tree,df1,target)"
   ]
  },
  {
   "cell_type": "code",
   "execution_count": 117,
   "metadata": {},
   "outputs": [
    {
     "name": "stdout",
     "output_type": "stream",
     "text": [
      "outlook {'Sunny': <__main__.DecisionTree object at 0x000001ED0DD5F700>, 'Rain': <__main__.DecisionTree object at 0x000001ED0DD5F520>, 'Overcast': 'Yes'}\n"
     ]
    }
   ],
   "source": [
    "print(tree)"
   ]
  },
  {
   "cell_type": "code",
   "execution_count": 118,
   "metadata": {},
   "outputs": [
    {
     "name": "stdout",
     "output_type": "stream",
     "text": [
      "humidity {'High': 'No', 'Normal': 'Yes'}\n"
     ]
    }
   ],
   "source": [
    "print(tree.nodes['Sunny'])"
   ]
  },
  {
   "cell_type": "code",
   "execution_count": 119,
   "metadata": {},
   "outputs": [
    {
     "name": "stdout",
     "output_type": "stream",
     "text": [
      "wind {'Weak': 'Yes', 'Strong': 'No'}\n"
     ]
    }
   ],
   "source": [
    "print(tree.nodes['Rain'])"
   ]
  },
  {
   "cell_type": "code",
   "execution_count": null,
   "metadata": {},
   "outputs": [],
   "source": []
  }
 ],
 "metadata": {
  "kernelspec": {
   "display_name": "Python 3",
   "language": "python",
   "name": "python3"
  },
  "language_info": {
   "codemirror_mode": {
    "name": "ipython",
    "version": 3
   },
   "file_extension": ".py",
   "mimetype": "text/x-python",
   "name": "python",
   "nbconvert_exporter": "python",
   "pygments_lexer": "ipython3",
   "version": "3.8.2"
  }
 },
 "nbformat": 4,
 "nbformat_minor": 5
}
